{
 "cells": [
  {
   "cell_type": "code",
   "execution_count": null,
   "metadata": {},
   "outputs": [],
   "source": [
    "'''\n",
    "Implementing an ARIMA Model in Python\n",
    "\n",
    "In this notebook, we'll use an arima model to make predict gdp levels in future years.\n",
    "'''"
   ]
  },
  {
   "cell_type": "code",
   "execution_count": null,
   "metadata": {},
   "outputs": [],
   "source": [
    "### Import libraries and load in data into a dataframe called 'df'.\n",
    "### This dataset gives US GDP levels from 1947-2017. \n",
    "### In this assignment, our goal is to predict future levels (2018+)\n",
    "\n",
    "import pandas as pd\n",
    "import numpy as np\n",
    "\n",
    "df = pd.read_csv('quarter.csv')\n",
    "df.head()"
   ]
  },
  {
   "cell_type": "code",
   "execution_count": null,
   "metadata": {},
   "outputs": [],
   "source": [
    "## Part A (30 pts)\n",
    "\n",
    "''' \n",
    "i) Convert the values in the 'date' column into datetime objects. Set the index of the dataframe to the 'date' column. \n",
    "\n",
    "ii) Delete all columns except for 'level-current', making sure the data is still in a DataFrame format instead of a series.\n",
    "\n",
    "Both i-ii should be done in place to the 'df' dataframe.\n",
    "'''\n",
    "\n",
    "df['date'] = pd.to_datetime(df['date'])\n",
    "df.set_index('date', inplace = True)\n",
    "df = pd.DataFrame(df['level-current'])"
   ]
  },
  {
   "cell_type": "code",
   "execution_count": null,
   "metadata": {},
   "outputs": [],
   "source": [
    "## Part B (50 pts)\n",
    "\n",
    "''' \n",
    "i) Import the 'statsmodels.api' library. We'll be using the SARIMA model from here. \n",
    "Refer to the documentation here: https://www.statsmodels.org/stable/generated/statsmodels.tsa.statespace.sarimax.SARIMAX.html\n",
    "\n",
    "ii) Create a SARIMAX model on the dataframe with the following paramaters:\n",
    "order=(0, 0, 1),=(1, 1, 1, 12), enforce_stationarity=False, enforce_invertibility=False.\n",
    "\n",
    "iii) Fit the model on the data and store it in a variable called 'results'.\n",
    "'''\n",
    "\n",
    "import statsmodels.api as sm\n",
    "\n",
    "y = df['level-current']\n",
    "\n",
    "mod = sm.tsa.statespace.SARIMAX(y,\n",
    "                                order=(0, 0, 1),\n",
    "                                seasonal_order=(1, 1, 1, 12),\n",
    "                                enforce_stationarity=False,\n",
    "                                enforce_invertibility=False)\n",
    "results = mod.fit()"
   ]
  },
  {
   "cell_type": "code",
   "execution_count": null,
   "metadata": {},
   "outputs": [],
   "source": [
    "## Part C (20 pts)\n",
    "\n",
    "''' \n",
    "i) Generate a 95% confidence interval for predictions starting on 1/1/2018. \n",
    "Store it in a tuple variable called 'pred_ci'.\n",
    "'pred_ci' should be of the form (lower_bound, upper_bound) where lower_bound and upper_bound are decimals.\n",
    "'''\n",
    "\n",
    "pred = results.get_prediction(start=pd.to_datetime('1/1/2018'))\n",
    "pred_cit = pred.conf_int()\n",
    "pred_ci = (pred_cit.iloc[0][0], pred_cit.iloc[0][1])"
   ]
  }
 ],
 "metadata": {
  "kernelspec": {
   "display_name": "Python 3",
   "language": "python",
   "name": "python3"
  },
  "language_info": {
   "codemirror_mode": {
    "name": "ipython",
    "version": 3
   },
   "file_extension": ".py",
   "mimetype": "text/x-python",
   "name": "python",
   "nbconvert_exporter": "python",
   "pygments_lexer": "ipython3",
   "version": "3.7.6"
  }
 },
 "nbformat": 4,
 "nbformat_minor": 4
}
