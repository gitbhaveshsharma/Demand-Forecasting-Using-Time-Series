{
 "cells": [
  {
   "cell_type": "code",
   "execution_count": null,
   "metadata": {},
   "outputs": [],
   "source": [
    "'''\n",
    "ID:\n",
    "Predicting Deliveries\n",
    "\n",
    "In this final project, we'll implement a SARIMA model to predict the number of deliveries in South Africa\n",
    "'''"
   ]
  },
  {
   "cell_type": "code",
   "execution_count": null,
   "metadata": {},
   "outputs": [],
   "source": [
    "### Load in libraries and read in data.\n",
    "### The data is stored in a dataframe called 'df'.\n",
    "\n",
    "import pandas as pd\n",
    "import numpy as np\n",
    "\n",
    "df = pd.read_csv('deliveries.csv')\n",
    "df.head()"
   ]
  },
  {
   "cell_type": "code",
   "execution_count": null,
   "metadata": {},
   "outputs": [],
   "source": [
    "### Part A (20 Pts):\n",
    "\n",
    "\n",
    "### Convert the values in the column 'Scheduled Delivery Date' into DateTime objects.\n",
    "### Set the index of the dataframe to the 'Scheduled Delivery Date' column.\n",
    "\n",
    "df['Scheduled Delivery Date'] = pd.to_datetime(df['Scheduled Delivery Date'])\n",
    "df.set_index('Scheduled Delivery Date', inplace = True)"
   ]
  },
  {
   "cell_type": "code",
   "execution_count": null,
   "metadata": {},
   "outputs": [],
   "source": [
    "### Part B (20 Pts)\n",
    "\n",
    "### Find the number of deliveries scheduled for South Africa in 2010.\n",
    "### Store it in a variable called \"sa\".\n",
    "### Create a varaible named temp_df to store the dataframe only containing values for South Africa.\n",
    "### Hint: Countries are stored in a column called 'Country' and years are stored in a column called 'year'.\n",
    "\n",
    "temp_df = df[df['Country'] == 'South Africa']\n",
    "df['year'] = df.index.year\n",
    "sa = df.groupby('year').count().loc[2010]['ID']"
   ]
  },
  {
   "cell_type": "code",
   "execution_count": null,
   "metadata": {},
   "outputs": [],
   "source": [
    "### Part C (20 pts)\n",
    "\n",
    "### Create a new dataframe with the variable name 'sr' by using the corrsponding values in the 'Line Item Quantity' column.\n",
    "### Then, add three new colums corresponding to different shift amounts: 2, 10, and 20.\n",
    "### The index of the 'sr' dataframe should be 'Scheduled Delivery Date' \n",
    "### with the columns: ['Line Item Quantity', 'shift_2', 'shift_10', 'shift_20']\n",
    "\n",
    "sr = pd.DataFrame(df['Line Item Quantity'])\n",
    "sr['shift_2'] = sr['Line Item Quantity'].shift(2)\n",
    "sr['shift_10'] = sr['Line Item Quantity'].shift(10)\n",
    "sr['shift_20'] = sr['Line Item Quantity'].shift(20)"
   ]
  },
  {
   "cell_type": "code",
   "execution_count": null,
   "metadata": {},
   "outputs": [],
   "source": [
    "### Part D (20 pts)\n",
    "\n",
    "### Find the autocorrelation value on the first column in sr. Use a lag of 20. \n",
    "### Store the value in variable called ac.\n",
    "\n",
    "ac = sr['Line Item Quantity'].autocorr(10)"
   ]
  },
  {
   "cell_type": "code",
   "execution_count": null,
   "metadata": {},
   "outputs": [],
   "source": [
    "import statsmodels.api as sm\n",
    "\n",
    "### Part E (20 pts)\n",
    "\n",
    "### Use the SARIMA model to generate predictions from the sr dataframe. \n",
    "### Use the model to find the mean predicted value. Store this mean in a variable called 'pred'.\n",
    "\n",
    "mod = sm.tsa.statespace.SARIMAX(sr['Line Item Quantity'],\n",
    "                                order=(0, 0, 1),\n",
    "                                seasonal_order=(1, 1, 1, 12),\n",
    "                                enforce_stationarity=False,\n",
    "                                enforce_invertibility=False)\n",
    "results = mod.fit()\n",
    "\n",
    "pred = results.get_prediction().predicted_mean.mean()"
   ]
  }
 ],
 "metadata": {
  "kernelspec": {
   "display_name": "Python 3",
   "language": "python",
   "name": "python3"
  },
  "language_info": {
   "codemirror_mode": {
    "name": "ipython",
    "version": 3
   },
   "file_extension": ".py",
   "mimetype": "text/x-python",
   "name": "python",
   "nbconvert_exporter": "python",
   "pygments_lexer": "ipython3",
   "version": "3.7.6"
  }
 },
 "nbformat": 4,
 "nbformat_minor": 4
}
